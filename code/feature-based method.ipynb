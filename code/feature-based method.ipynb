{
 "cells": [
  {
   "cell_type": "code",
   "execution_count": 1,
   "id": "1911572e-3c9b-4c1b-871f-752ff5edd0af",
   "metadata": {},
   "outputs": [],
   "source": [
    "import pandas as pd\n",
    "from tqdm import tqdm \n",
    "import numpy as np\n",
    "import json \n",
    "from sklearn.ensemble import RandomForestClassifier, GradientBoostingClassifier\n",
    "from sklearn.metrics import *"
   ]
  },
  {
   "cell_type": "code",
   "execution_count": 7,
   "id": "a59b58b2-63bb-4190-9b9c-65ea072a8d35",
   "metadata": {},
   "outputs": [],
   "source": [
    "estimators = 4000\n",
    "model_name = \"GB\""
   ]
  },
  {
   "cell_type": "code",
   "execution_count": 8,
   "id": "e3fb4323-e8eb-4434-8225-b7645707ba71",
   "metadata": {},
   "outputs": [
    {
     "name": "stdout",
     "output_type": "stream",
     "text": [
      "Training set is made of 15154 istances\n",
      "Testing set is made of 291 istances\n"
     ]
    }
   ],
   "source": [
    "columns = ['topics', 'sub_occ', 'obj_occ', 'sub_in_obj', 'subsumption', 'label']\n",
    "\n",
    "train = pd.read_csv(\"feature-based dataset/training_set.csv\")\n",
    "test = pd.read_csv(\"feature-based dataset/testing_set.csv\")\n",
    "\n",
    "train.columns = columns\n",
    "test.columns = columns\n",
    "\n",
    "print(\"Training set is made of \" + str(train.shape[0]) + \" istances\")\n",
    "print(\"Testing set is made of \" + str(test.shape[0]) + \" istances\")"
   ]
  },
  {
   "cell_type": "code",
   "execution_count": 9,
   "id": "f4bf2a98-f8dc-44e8-a49b-8d7726d09175",
   "metadata": {},
   "outputs": [],
   "source": [
    "X_train = train[['sub_occ','obj_occ','sub_in_obj', 'subsumption']]\n",
    "y_train = train['label']\n",
    "\n",
    "X_test = test[['sub_occ','obj_occ','sub_in_obj', 'subsumption']]\n",
    "y_test = test['label']"
   ]
  },
  {
   "cell_type": "code",
   "execution_count": 10,
   "id": "849127e9-2f75-4fa2-ab9f-76e7210c6797",
   "metadata": {},
   "outputs": [
    {
     "name": "stdout",
     "output_type": "stream",
     "text": [
      "              precision    recall  f1-score   support\n",
      "\n",
      "           0     0.4906    0.3421    0.4031        76\n",
      "           1     0.5385    0.3684    0.4375        76\n",
      "           2     0.5156    0.8250    0.6346        80\n",
      "           3     0.8621    0.8475    0.8547        59\n",
      "\n",
      "    accuracy                         0.5842       291\n",
      "   macro avg     0.6017    0.5957    0.5825       291\n",
      "weighted avg     0.5853    0.5842    0.5673       291\n",
      "\n"
     ]
    }
   ],
   "source": [
    "if model_name =='RF':\n",
    "    model = RandomForestClassifier(n_estimators = estimators, max_depth=None, random_state=0, n_jobs=-1)\n",
    "else:\n",
    "    model = GradientBoostingClassifier(n_estimators = estimators, max_depth=None, random_state=0)\n",
    "\n",
    "model.fit(X_train, y_train)\n",
    "y_predictions = model.predict(X_test)\n",
    "\n",
    "report = classification_report(y_test, y_predictions, digits=4)\n",
    "\n",
    "print(report)"
   ]
  },
  {
   "cell_type": "code",
   "execution_count": null,
   "id": "2b9a2db4-54c0-4be3-9a03-9cf7e1919f40",
   "metadata": {},
   "outputs": [],
   "source": []
  }
 ],
 "metadata": {
  "kernelspec": {
   "display_name": "Python 3 (ipykernel)",
   "language": "python",
   "name": "python3"
  },
  "language_info": {
   "codemirror_mode": {
    "name": "ipython",
    "version": 3
   },
   "file_extension": ".py",
   "mimetype": "text/x-python",
   "name": "python",
   "nbconvert_exporter": "python",
   "pygments_lexer": "ipython3",
   "version": "3.8.17"
  }
 },
 "nbformat": 4,
 "nbformat_minor": 5
}
